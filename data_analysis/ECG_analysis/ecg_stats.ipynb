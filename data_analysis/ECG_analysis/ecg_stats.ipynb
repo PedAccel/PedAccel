{
 "cells": [
  {
   "cell_type": "code",
   "execution_count": 1,
   "metadata": {},
   "outputs": [],
   "source": [
    "# Import Modules\n",
    "import os\n",
    "import pandas as pd\n",
    "import numpy as np\n",
    "from scipy.io import loadmat, savemat\n",
    "import matplotlib.pyplot as plt\n",
    "import neurokit2 as nk\n",
    "from scipy.signal import find_peaks\n",
    "import zlib"
   ]
  },
  {
   "cell_type": "code",
   "execution_count": 2,
   "metadata": {},
   "outputs": [],
   "source": [
    "data_dir = r'S:\\Sedation_monitoring\\PedAccel_directory\\PedAccel\\data_analysis\\ECG_analysis\\PICU_ECG_Extract'\n",
    "original_sampling_rate = 240\n",
    "lead_time = 10\n",
    "window_size = 15"
   ]
  },
  {
   "cell_type": "code",
   "execution_count": 11,
   "metadata": {},
   "outputs": [],
   "source": [
    "def calculate_sd1_sd2(rr_intervals):\n",
    "    diff_rr = np.diff(rr_intervals)\n",
    "    sd1 = np.sqrt(np.var(diff_rr) / 2)\n",
    "    sd2 = np.sqrt(2 * np.var(rr_intervals) - np.var(diff_rr) / 2)\n",
    "    return sd1, sd2\n",
    "\n",
    "def calculate_ecg_features(ecg_signal, sampling_rate=240):\n",
    "    # Ensure ecg_signal is a 1D array\n",
    "    ecg_signal = np.ravel(ecg_signal)\n",
    "    \n",
    "    # Find R-peaks\n",
    "    peaks, _ = find_peaks(ecg_signal, distance=sampling_rate//2)  # Assume at least 0.5s between peaks\n",
    "    \n",
    "    # Calculate RR intervals\n",
    "    rr_intervals = np.diff(peaks) / sampling_rate\n",
    "    \n",
    "    # Calculate heart rate\n",
    "    heart_rates = 60 / rr_intervals\n",
    "    \n",
    "    mean_hr = np.mean(heart_rates)\n",
    "    sd_nn = np.std(rr_intervals)\n",
    "    rmssd = np.sqrt(np.mean(np.diff(rr_intervals)**2))\n",
    "    sd_hr = np.std(heart_rates)\n",
    "    \n",
    "    # Calculate SD1 and SD2\n",
    "    sd1, sd2 = calculate_sd1_sd2(rr_intervals)\n",
    "    \n",
    "    return mean_hr, sd_nn, rmssd, sd_hr, sd1, sd2"
   ]
  },
  {
   "cell_type": "code",
   "execution_count": 4,
   "metadata": {},
   "outputs": [],
   "source": [
    "def load_from_excel(file_path):\n",
    "    # Implement this function to load data from Excel\n",
    "    # Return the data and column names\n",
    "    data = pd.read_excel(file_path)\n",
    "    return data, data.columns.tolist()"
   ]
  },
  {
   "cell_type": "code",
   "execution_count": 12,
   "metadata": {},
   "outputs": [
    {
     "name": "stdout",
     "output_type": "stream",
     "text": [
      "Processing Patient4\n",
      "S:\\Sedation_monitoring\\PedAccel_directory\\PedAccel\\data_analysis\\ECG_analysis\\PICU_ECG_Extract\\Patient4\n",
      "dict_keys(['__header__', '__version__', '__globals__', 'sbs_score', 'start_time', 'end_time', 'ecg1', 'ecg2', 'ecg3'])\n",
      "(115,)\n",
      "(115,)\n",
      "(115,)\n",
      "(115,)\n"
     ]
    },
    {
     "ename": "ValueError",
     "evalue": "setting an array element with a sequence.",
     "output_type": "error",
     "traceback": [
      "\u001b[1;31m---------------------------------------------------------------------------\u001b[0m",
      "\u001b[1;31mTypeError\u001b[0m                                 Traceback (most recent call last)",
      "\u001b[1;31mTypeError\u001b[0m: only length-1 arrays can be converted to Python scalars",
      "\nThe above exception was the direct cause of the following exception:\n",
      "\u001b[1;31mValueError\u001b[0m                                Traceback (most recent call last)",
      "Cell \u001b[1;32mIn[12], line 41\u001b[0m\n\u001b[0;32m     39\u001b[0m     features \u001b[38;5;241m=\u001b[39m []\n\u001b[0;32m     40\u001b[0m \u001b[38;5;28;01mfor\u001b[39;00m ecg_column \u001b[38;5;129;01min\u001b[39;00m [\u001b[38;5;124m'\u001b[39m\u001b[38;5;124mecg1\u001b[39m\u001b[38;5;124m'\u001b[39m, \u001b[38;5;124m'\u001b[39m\u001b[38;5;124mecg2\u001b[39m\u001b[38;5;124m'\u001b[39m, \u001b[38;5;124m'\u001b[39m\u001b[38;5;124mecg3\u001b[39m\u001b[38;5;124m'\u001b[39m]:\n\u001b[1;32m---> 41\u001b[0m     mean_hr, sd_nn, rmssd, sd_hr, sd1, sd2 \u001b[38;5;241m=\u001b[39m \u001b[43mcalculate_ecg_features\u001b[49m\u001b[43m(\u001b[49m\u001b[43mecg_data\u001b[49m\u001b[43m[\u001b[49m\u001b[43mecg_column\u001b[49m\u001b[43m]\u001b[49m\u001b[43m)\u001b[49m\n\u001b[0;32m     42\u001b[0m     features\u001b[38;5;241m.\u001b[39mappend({\n\u001b[0;32m     43\u001b[0m         \u001b[38;5;124mf\u001b[39m\u001b[38;5;124m'\u001b[39m\u001b[38;5;132;01m{\u001b[39;00mecg_column\u001b[38;5;132;01m}\u001b[39;00m\u001b[38;5;124m_mean_hr\u001b[39m\u001b[38;5;124m'\u001b[39m: mean_hr,\n\u001b[0;32m     44\u001b[0m         \u001b[38;5;124mf\u001b[39m\u001b[38;5;124m'\u001b[39m\u001b[38;5;132;01m{\u001b[39;00mecg_column\u001b[38;5;132;01m}\u001b[39;00m\u001b[38;5;124m_sd_nn\u001b[39m\u001b[38;5;124m'\u001b[39m: sd_nn,\n\u001b[1;32m   (...)\u001b[0m\n\u001b[0;32m     48\u001b[0m         \u001b[38;5;124mf\u001b[39m\u001b[38;5;124m'\u001b[39m\u001b[38;5;132;01m{\u001b[39;00mecg_column\u001b[38;5;132;01m}\u001b[39;00m\u001b[38;5;124m_sd2\u001b[39m\u001b[38;5;124m'\u001b[39m: sd2\n\u001b[0;32m     49\u001b[0m     })\n\u001b[0;32m     51\u001b[0m     \u001b[38;5;66;03m# Create a DataFrame for the calculated metrics\u001b[39;00m\n",
      "Cell \u001b[1;32mIn[11], line 12\u001b[0m, in \u001b[0;36mcalculate_ecg_features\u001b[1;34m(ecg_signal, sampling_rate)\u001b[0m\n\u001b[0;32m      9\u001b[0m ecg_signal \u001b[38;5;241m=\u001b[39m np\u001b[38;5;241m.\u001b[39mravel(ecg_signal)\n\u001b[0;32m     11\u001b[0m \u001b[38;5;66;03m# Find R-peaks\u001b[39;00m\n\u001b[1;32m---> 12\u001b[0m peaks, _ \u001b[38;5;241m=\u001b[39m \u001b[43mfind_peaks\u001b[49m\u001b[43m(\u001b[49m\u001b[43mecg_signal\u001b[49m\u001b[43m,\u001b[49m\u001b[43m \u001b[49m\u001b[43mdistance\u001b[49m\u001b[38;5;241;43m=\u001b[39;49m\u001b[43msampling_rate\u001b[49m\u001b[38;5;241;43m/\u001b[39;49m\u001b[38;5;241;43m/\u001b[39;49m\u001b[38;5;241;43m2\u001b[39;49m\u001b[43m)\u001b[49m  \u001b[38;5;66;03m# Assume at least 0.5s between peaks\u001b[39;00m\n\u001b[0;32m     14\u001b[0m \u001b[38;5;66;03m# Calculate RR intervals\u001b[39;00m\n\u001b[0;32m     15\u001b[0m rr_intervals \u001b[38;5;241m=\u001b[39m np\u001b[38;5;241m.\u001b[39mdiff(peaks) \u001b[38;5;241m/\u001b[39m sampling_rate\n",
      "File \u001b[1;32m~\\AppData\\Local\\Packages\\PythonSoftwareFoundation.Python.3.11_qbz5n2kfra8p0\\LocalCache\\local-packages\\Python311\\site-packages\\scipy\\signal\\_peak_finding.py:939\u001b[0m, in \u001b[0;36mfind_peaks\u001b[1;34m(x, height, threshold, distance, prominence, width, wlen, rel_height, plateau_size)\u001b[0m\n\u001b[0;32m    732\u001b[0m \u001b[38;5;250m\u001b[39m\u001b[38;5;124;03m\"\"\"\u001b[39;00m\n\u001b[0;32m    733\u001b[0m \u001b[38;5;124;03mFind peaks inside a signal based on peak properties.\u001b[39;00m\n\u001b[0;32m    734\u001b[0m \n\u001b[1;32m   (...)\u001b[0m\n\u001b[0;32m    936\u001b[0m \u001b[38;5;124;03m>>> plt.show()\u001b[39;00m\n\u001b[0;32m    937\u001b[0m \u001b[38;5;124;03m\"\"\"\u001b[39;00m\n\u001b[0;32m    938\u001b[0m \u001b[38;5;66;03m# _argmaxima1d expects array of dtype 'float64'\u001b[39;00m\n\u001b[1;32m--> 939\u001b[0m x \u001b[38;5;241m=\u001b[39m \u001b[43m_arg_x_as_expected\u001b[49m\u001b[43m(\u001b[49m\u001b[43mx\u001b[49m\u001b[43m)\u001b[49m\n\u001b[0;32m    940\u001b[0m \u001b[38;5;28;01mif\u001b[39;00m distance \u001b[38;5;129;01mis\u001b[39;00m \u001b[38;5;129;01mnot\u001b[39;00m \u001b[38;5;28;01mNone\u001b[39;00m \u001b[38;5;129;01mand\u001b[39;00m distance \u001b[38;5;241m<\u001b[39m \u001b[38;5;241m1\u001b[39m:\n\u001b[0;32m    941\u001b[0m     \u001b[38;5;28;01mraise\u001b[39;00m \u001b[38;5;167;01mValueError\u001b[39;00m(\u001b[38;5;124m'\u001b[39m\u001b[38;5;124m`distance` must be greater or equal to 1\u001b[39m\u001b[38;5;124m'\u001b[39m)\n",
      "File \u001b[1;32m~\\AppData\\Local\\Packages\\PythonSoftwareFoundation.Python.3.11_qbz5n2kfra8p0\\LocalCache\\local-packages\\Python311\\site-packages\\scipy\\signal\\_peak_finding.py:266\u001b[0m, in \u001b[0;36m_arg_x_as_expected\u001b[1;34m(value)\u001b[0m\n\u001b[0;32m    255\u001b[0m \u001b[38;5;28;01mdef\u001b[39;00m \u001b[38;5;21m_arg_x_as_expected\u001b[39m(value):\n\u001b[0;32m    256\u001b[0m \u001b[38;5;250m    \u001b[39m\u001b[38;5;124;03m\"\"\"Ensure argument `x` is a 1-D C-contiguous array of dtype('float64').\u001b[39;00m\n\u001b[0;32m    257\u001b[0m \n\u001b[0;32m    258\u001b[0m \u001b[38;5;124;03m    Used in `find_peaks`, `peak_prominences` and `peak_widths` to make `x`\u001b[39;00m\n\u001b[1;32m   (...)\u001b[0m\n\u001b[0;32m    264\u001b[0m \u001b[38;5;124;03m        A 1-D C-contiguous array with dtype('float64').\u001b[39;00m\n\u001b[0;32m    265\u001b[0m \u001b[38;5;124;03m    \"\"\"\u001b[39;00m\n\u001b[1;32m--> 266\u001b[0m     value \u001b[38;5;241m=\u001b[39m \u001b[43mnp\u001b[49m\u001b[38;5;241;43m.\u001b[39;49m\u001b[43masarray\u001b[49m\u001b[43m(\u001b[49m\u001b[43mvalue\u001b[49m\u001b[43m,\u001b[49m\u001b[43m \u001b[49m\u001b[43morder\u001b[49m\u001b[38;5;241;43m=\u001b[39;49m\u001b[38;5;124;43m'\u001b[39;49m\u001b[38;5;124;43mC\u001b[39;49m\u001b[38;5;124;43m'\u001b[39;49m\u001b[43m,\u001b[49m\u001b[43m \u001b[49m\u001b[43mdtype\u001b[49m\u001b[38;5;241;43m=\u001b[39;49m\u001b[43mnp\u001b[49m\u001b[38;5;241;43m.\u001b[39;49m\u001b[43mfloat64\u001b[49m\u001b[43m)\u001b[49m\n\u001b[0;32m    267\u001b[0m     \u001b[38;5;28;01mif\u001b[39;00m value\u001b[38;5;241m.\u001b[39mndim \u001b[38;5;241m!=\u001b[39m \u001b[38;5;241m1\u001b[39m:\n\u001b[0;32m    268\u001b[0m         \u001b[38;5;28;01mraise\u001b[39;00m \u001b[38;5;167;01mValueError\u001b[39;00m(\u001b[38;5;124m'\u001b[39m\u001b[38;5;124m`x` must be a 1-D array\u001b[39m\u001b[38;5;124m'\u001b[39m)\n",
      "\u001b[1;31mValueError\u001b[0m: setting an array element with a sequence."
     ]
    }
   ],
   "source": [
    "for patient in os.listdir(data_dir):\n",
    "    print(f\"Processing {patient}\")\n",
    "    patient_dir = os.path.join(data_dir, patient)\n",
    "    print(patient_dir)\n",
    "\n",
    "    # sbs_file = os.path.join(patient_dir, f'{patient}_Retro_SBS_Scores.xlsx')\n",
    "    # if not os.path.isfile(sbs_file):\n",
    "    #     raise FileNotFoundError(f'EPIC file not found: {sbs_file}')\n",
    "    \n",
    "    # print(sbs_file)\n",
    "    \n",
    "    # epic_data, epic_names = load_from_excel(sbs_file)\n",
    "\n",
    "    # # Statement to load Retrospective SBS Scores\n",
    "    # epic_data = epic_data[(epic_data['Default'] != 'Y') & (epic_data['SBS'] != '')]\n",
    "\n",
    "    # epic_data.dropna(subset=['SBS'], inplace=True)\n",
    "    # epic_data['dts'] = pd.to_datetime(epic_data['Time_uniform'], format='mixed')\n",
    "    # epic_data['start_time'] = epic_data['dts'] - pd.Timedelta(lead_time, 'minutes')\n",
    "    # epic_data['end_time'] = epic_data['dts'] + pd.Timedelta(window_size - lead_time, 'minutes')\n",
    "    # print(len(epic_data))\n",
    "\n",
    "\n",
    "    ecg_file = os.path.join(patient_dir, f'{patient}_10MIN_5MIN_ECG_SBSFinal.mat')\n",
    "    ecg_data = loadmat(ecg_file)\n",
    "\n",
    "    print(ecg_data.keys())\n",
    "\n",
    "    ecg_data['sbs_score'] = ecg_data['sbs_score'].flatten()\n",
    "    ecg_data['ecg1'] = ecg_data['ecg1'].flatten()\n",
    "    ecg_data['ecg2'] = ecg_data['ecg2'].flatten()\n",
    "    ecg_data['ecg3'] = ecg_data['ecg3'].flatten()\n",
    "\n",
    "    print(ecg_data['sbs_score'].shape)\n",
    "    print(ecg_data['ecg1'].shape)\n",
    "    print(ecg_data['ecg2'].shape)\n",
    "    print(ecg_data['ecg3'].shape)\n",
    "\n",
    "    features = []\n",
    "for ecg_column in ['ecg1', 'ecg2', 'ecg3']:\n",
    "    mean_hr, sd_nn, rmssd, sd_hr, sd1, sd2 = calculate_ecg_features(ecg_data[ecg_column])\n",
    "    features.append({\n",
    "        f'{ecg_column}_mean_hr': mean_hr,\n",
    "        f'{ecg_column}_sd_nn': sd_nn,\n",
    "        f'{ecg_column}_rmssd': rmssd,\n",
    "        f'{ecg_column}_sd_hr': sd_hr,\n",
    "        f'{ecg_column}_sd1': sd1,\n",
    "        f'{ecg_column}_sd2': sd2\n",
    "    })\n",
    "\n",
    "    # Create a DataFrame for the calculated metrics\n",
    "    df_features = pd.DataFrame(features)\n",
    "\n",
    "    # Add the SBS score to the features DataFrame\n",
    "    df_features['sbs_score'] = ecg_data['sbs_score']\n",
    "\n",
    "    # Display the first few rows and column names of the features DataFrame\n",
    "    print(df_features.head())\n",
    "    print(\"\\nColumn names:\")\n",
    "    print(df_features.columns)\n"
   ]
  }
 ],
 "metadata": {
  "kernelspec": {
   "display_name": "Python 3",
   "language": "python",
   "name": "python3"
  },
  "language_info": {
   "codemirror_mode": {
    "name": "ipython",
    "version": 3
   },
   "file_extension": ".py",
   "mimetype": "text/x-python",
   "name": "python",
   "nbconvert_exporter": "python",
   "pygments_lexer": "ipython3",
   "version": "3.11.9"
  }
 },
 "nbformat": 4,
 "nbformat_minor": 2
}
