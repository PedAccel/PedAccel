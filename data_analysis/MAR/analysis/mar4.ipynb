{
 "cells": [
  {
   "cell_type": "code",
   "execution_count": null,
   "id": "513930ca",
   "metadata": {},
   "outputs": [],
   "source": [
    "import os\n",
    "import numpy as np\n",
    "import pandas as pd\n",
    "import scipy as scipy\n",
    "from tqdm import tqdm\n",
    "import matplotlib.pyplot as plt\n",
    "\n",
    "import mar\n",
    "import preprocessing"
   ]
  },
  {
   "cell_type": "code",
   "execution_count": 2,
   "id": "c4ee3f3a",
   "metadata": {},
   "outputs": [],
   "source": [
    "data_dir = os.path.join(os.path.dirname(os.getcwd()), \"data\")\n",
    "pat_num = 4"
   ]
  },
  {
   "cell_type": "code",
   "execution_count": 3,
   "id": "62503d7a",
   "metadata": {},
   "outputs": [],
   "source": [
    "mar4 = preprocessing.load_mar_data(data_dir, pat_num)\n",
    "sickbay4 = preprocessing.load_sickbay_data(data_dir, pat_num)"
   ]
  },
  {
   "cell_type": "code",
   "execution_count": null,
   "id": "fa1cc402",
   "metadata": {},
   "outputs": [],
   "source": [
    "print(sickbay4.head())"
   ]
  },
  {
   "cell_type": "code",
   "execution_count": 4,
   "id": "a2f6306d",
   "metadata": {},
   "outputs": [],
   "source": [
    "sbs4 = preprocessing.load_retro_data(data_dir, pat_num, ignore_default=True)\n",
    "sbs4 = sbs4[['time', 'MD_SBS', 'TM_SBS', 'SBS']]"
   ]
  },
  {
   "cell_type": "code",
   "execution_count": null,
   "id": "424aec79",
   "metadata": {},
   "outputs": [],
   "source": [
    "print(mar4)\n",
    "print(sickbay4)\n",
    "print(sbs4)"
   ]
  },
  {
   "cell_type": "code",
   "execution_count": null,
   "id": "c5ca97e8",
   "metadata": {},
   "outputs": [],
   "source": [
    "raw_data = preprocessing.load_mat_file(os.path.join(data_dir, \"Patient4\", \"Patient4_SICKBAY_15MIN_1MIN_Retro.mat\"))\n",
    "\n",
    "for key in raw_data.keys():\n",
    "    if raw_data[key].ndim == 2:\n",
    "        new = np.empty(raw_data[key].shape[0], dtype=object)\n",
    "\n",
    "        for j in range(len(new)):\n",
    "            new[j] = raw_data[key]\n",
    "        \n",
    "        raw_data[key] = new\n",
    "\n",
    "sickbay_df = pd.DataFrame(raw_data)\n",
    "display(sickbay_df.head())"
   ]
  },
  {
   "cell_type": "code",
   "execution_count": null,
   "id": "431a3112",
   "metadata": {},
   "outputs": [],
   "source": [
    "accel4 = preprocessing.load_accel_data(data_dir, pat_num)"
   ]
  },
  {
   "cell_type": "code",
   "execution_count": null,
   "id": "be816a3b",
   "metadata": {},
   "outputs": [],
   "source": [
    "accel4.to_csv(os.path.join(data_dir, \"Patient4\", \"accel_raw.csv\"), index=False)"
   ]
  },
  {
   "cell_type": "code",
   "execution_count": null,
   "id": "0a2fda68",
   "metadata": {},
   "outputs": [],
   "source": [
    "accel4 = accel4.sort_values(by='time', ascending=True).reset_index(drop=True)"
   ]
  },
  {
   "cell_type": "code",
   "execution_count": null,
   "id": "a9fcc795",
   "metadata": {},
   "outputs": [],
   "source": [
    "print(accel4.head())"
   ]
  },
  {
   "cell_type": "code",
   "execution_count": null,
   "id": "b1cc7bf1",
   "metadata": {},
   "outputs": [],
   "source": [
    "accel4_downsampled = accel4.iloc[::200].reset_index(drop=True)\n",
    "accel4_downsampled['time'] = accel4_downsampled['time'].dt.round('S')"
   ]
  },
  {
   "cell_type": "code",
   "execution_count": null,
   "id": "ef4972ae",
   "metadata": {},
   "outputs": [],
   "source": [
    "print(accel4_downsampled.shape)\n",
    "print(accel4_downsampled.head())"
   ]
  },
  {
   "cell_type": "code",
   "execution_count": null,
   "id": "4486d6c1",
   "metadata": {},
   "outputs": [],
   "source": [
    "accel4_downsampled['a'] = np.sqrt(accel4_downsampled['X']**2 + accel4_downsampled['Y']**2 + accel4_downsampled['Z']**2)\n",
    "accel4_downsampled.to_csv(os.path.join(data_dir, \"Patient4\", \"accel_downsampled.csv\"), index=False)"
   ]
  },
  {
   "cell_type": "code",
   "execution_count": null,
   "id": "1943582e",
   "metadata": {},
   "outputs": [],
   "source": [
    "mar4_narcotics, mar4_paralytics, mar4_alpha_agonists, mar4_ketamines, mar4_propofols, mar4_etomidates, mar4_benzodiazepines = mar.filter_mar(mar4)\n",
    "\n",
    "print(mar4_narcotics.shape)\n",
    "print(mar4_paralytics.shape)\n",
    "print(mar4_alpha_agonists.shape)\n",
    "print(mar4_ketamines.shape)\n",
    "print(mar4_propofols.shape)\n",
    "print(mar4_etomidates.shape)\n",
    "print(mar4_benzodiazepines.shape)"
   ]
  },
  {
   "cell_type": "code",
   "execution_count": null,
   "id": "509d4d25",
   "metadata": {},
   "outputs": [],
   "source": [
    "narcotics_half_lives = {'fentanyl': 4.5, 'hydromorphone': 2.5, 'methadone': 19.5}\n",
    "narcotics_elimination_rates = {med: np.log(2) / (half_life * 60) for med, half_life in narcotics_half_lives.items()}\n",
    "\n",
    "mar4_fentanyl = mar4_narcotics[mar4_narcotics['med_name'].str.contains('fentanyl', case=False)]\n",
    "\n",
    "fentanyl_doses = mar.calculate_doses(mar4_fentanyl)\n",
    "\n",
    "fentanyl_concetrations = mar.calculate_concentrations(fentanyl_doses, narcotics_elimination_rates['fentanyl'])"
   ]
  },
  {
   "cell_type": "code",
   "execution_count": null,
   "id": "18269790",
   "metadata": {},
   "outputs": [],
   "source": [
    "plt.figure(figsize=(10, 6))\n",
    "plt.plot(fentanyl_concetrations['time'], fentanyl_concetrations['concentration'], label='Fentanyl Concentration')\n",
    "plt.xlabel('Time')\n",
    "plt.ylabel('Concentration (ug/kg)')\n",
    "plt.title('Fentanyl Concentration Over Time')\n",
    "plt.legend()\n",
    "plt.grid()\n",
    "plt.show()"
   ]
  },
  {
   "cell_type": "code",
   "execution_count": null,
   "id": "a5ac1da3",
   "metadata": {},
   "outputs": [],
   "source": [
    "start = sbs4['time'].iloc[1]\n",
    "end = sbs4['time'].iloc[-1]\n",
    "\n",
    "plt.figure(figsize=(10, 6))\n",
    "plt.plot(fentanyl_concetrations['time'], fentanyl_concetrations['concentration'], label='Fentanyl Concentration')\n",
    "for i in range(1, len(sbs4)):\n",
    "    if sbs4['TM_SBS'].iloc[i] == -2:\n",
    "        plt.axvline(x=sbs4['time'].iloc[i], color='blue', linestyle='--')\n",
    "    elif sbs4['TM_SBS'].iloc[i] == -1:\n",
    "        plt.axvline(x=sbs4['time'].iloc[i], color='green', linestyle='--')\n",
    "    elif sbs4['TM_SBS'].iloc[i] == 0:\n",
    "        plt.axvline(x=sbs4['time'].iloc[i], color='yellow', linestyle='--')\n",
    "    elif sbs4['TM_SBS'].iloc[i] == 1:\n",
    "        plt.axvline(x=sbs4['time'].iloc[i], color='orange', linestyle='--')\n",
    "    elif sbs4['TM_SBS'].iloc[i] == 2:\n",
    "        plt.axvline(x=sbs4['time'].iloc[i], color='red', linestyle='--')\n",
    "plt.xlim(start, end)\n",
    "plt.title('Fentanyl Concentration and Dose vs Time with SBS')\n",
    "plt.xlabel('Time')\n",
    "plt.ylabel('Value')\n",
    "plt.legend()\n",
    "plt.show()\n"
   ]
  },
  {
   "cell_type": "code",
   "execution_count": null,
   "id": "c710e22e",
   "metadata": {},
   "outputs": [],
   "source": [
    "mar4_dexmedetomidine = mar4_alpha_agonists[mar4_alpha_agonists['med_name'].str.contains('dexmedetomidine', case=False)]\n",
    "mar4_clonidine = mar4_alpha_agonists[mar4_alpha_agonists['med_name'].str.contains('clonidine', case=False)]\n",
    "\n",
    "alpha_agonists_half_lives = {'dexmedetomidine': 2, 'clonidine': 1.25}\n",
    "alpha_agonists_elimination_rates = {med: np.log(2) / (half_life * 60) for med, half_life in alpha_agonists_half_lives.items()}\n",
    "\n",
    "dexmedetomidine_doses = mar.calculate_doses(mar4_dexmedetomidine)\n",
    "clonidine_doses = mar.calculate_doses(mar4_clonidine)\n",
    "\n",
    "dexmedetomidine_concentrations = mar.calculate_concentrations(dexmedetomidine_doses, alpha_agonists_elimination_rates['dexmedetomidine'])\n",
    "clonidine_concentrations = mar.calculate_concentrations(clonidine_doses, alpha_agonists_elimination_rates['clonidine'])"
   ]
  },
  {
   "cell_type": "code",
   "execution_count": null,
   "id": "f051674f",
   "metadata": {},
   "outputs": [],
   "source": [
    "plt.figure(figsize=(10, 6))\n",
    "plt.plot(dexmedetomidine_concentrations['time'], dexmedetomidine_concentrations['concentration'], label='Dexmedetomidine Concentration')\n",
    "plt.plot(clonidine_concentrations['time'], clonidine_concentrations['concentration'], label='Clonidine Concentration')\n",
    "plt.xlabel('Time')\n",
    "plt.ylabel('Concentration (ug/kg)')\n",
    "plt.title('Alpha Agonists Concentration Over Time')\n",
    "plt.legend()\n",
    "plt.grid()\n",
    "plt.show()"
   ]
  },
  {
   "cell_type": "code",
   "execution_count": null,
   "id": "84cb7026",
   "metadata": {},
   "outputs": [],
   "source": [
    "start = sbs4['time'].iloc[1]\n",
    "end = sbs4['time'].iloc[-1]\n",
    "\n",
    "plt.figure(figsize=(10, 6))\n",
    "plt.plot(dexmedetomidine_concentrations['time'], dexmedetomidine_concentrations['concentration'], label='Dexmedetomidine')\n",
    "plt.plot(clonidine_concentrations['time'], clonidine_concentrations['concentration'], label='Clonidine')\n",
    "for i in range(1, len(sbs4)):\n",
    "    if sbs4['TM_SBS'].iloc[i] == -2:\n",
    "        plt.axvline(x=sbs4['time'].iloc[i], color='blue', linestyle='--')\n",
    "    elif sbs4['TM_SBS'].iloc[i] == -1:\n",
    "        plt.axvline(x=sbs4['time'].iloc[i], color='green', linestyle='--')\n",
    "    elif sbs4['TM_SBS'].iloc[i] == 0:\n",
    "        plt.axvline(x=sbs4['time'].iloc[i], color='yellow', linestyle='--')\n",
    "    elif sbs4['TM_SBS'].iloc[i] == 1:\n",
    "        plt.axvline(x=sbs4['time'].iloc[i], color='orange', linestyle='--')\n",
    "    elif sbs4['TM_SBS'].iloc[i] == 2:\n",
    "        plt.axvline(x=sbs4['time'].iloc[i], color='red', linestyle='--')\n",
    "plt.xlim(start, end)\n",
    "plt.title('Alpha Agonist Concentration and Dose vs Time with SBS')\n",
    "plt.xlabel('Time')\n",
    "plt.ylabel('Value')\n",
    "plt.legend()\n",
    "plt.show()"
   ]
  },
  {
   "cell_type": "code",
   "execution_count": null,
   "id": "17f8cb72",
   "metadata": {},
   "outputs": [],
   "source": [
    "hr4 = sickbay4[['time', 'heart_rate']]\n",
    "rr4 = sickbay4[['time', 'respiratory_rate']]"
   ]
  },
  {
   "cell_type": "code",
   "execution_count": null,
   "id": "433addff",
   "metadata": {},
   "outputs": [],
   "source": [
    "start = hr4['time'].iloc[0]\n",
    "end = hr4['time'].iloc[-1]\n",
    "\n",
    "accel4_downsampled = accel4_downsampled[['time', 'a']]\n",
    "\n",
    "accel4_downsampled = accel4_downsampled[accel4_downsampled['time'].between(start, end)]\n",
    "accel4_standardized = accel4_downsampled.copy()\n",
    "accel4_standardized['a'] = (accel4_downsampled['a'] - accel4_downsampled['a'].mean()) / accel4_downsampled['a'].std()\n",
    "\n",
    "hr4 = hr4[hr4['time'].between(start, end)]\n",
    "hr4_standardized = hr4.copy()\n",
    "hr4_standardized['heart_rate'] = (hr4['heart_rate'] - hr4['heart_rate'].mean()) / hr4['heart_rate'].std()\n",
    "\n",
    "rr4= rr4[rr4['time'].between(start, end)]\n",
    "rr4_standardized = rr4.copy()\n",
    "rr4_standardized['respiratory_rate'] = (rr4['respiratory_rate'] - rr4['respiratory_rate'].mean()) / rr4['respiratory_rate'].std()\n",
    "\n",
    "chunk_size = 10000\n",
    "\n",
    "for start_idx in range(0, len(hr4_standardized), chunk_size):\n",
    "    end_idx = start_idx + chunk_size\n",
    "\n",
    "    accel_chunk = accel4_standardized.iloc[start_idx:end_idx]\n",
    "    hr_chunk    = hr4_standardized.iloc[start_idx:end_idx]\n",
    "    rr_chunk    = rr4_standardized.iloc[start_idx:end_idx]\n",
    "\n",
    "    plt.figure(figsize=(10, 6))\n",
    "    plt.plot(accel_chunk['time'], accel_chunk['a'],              label='Acceleration (z)')\n",
    "    plt.plot(hr_chunk['time'],    hr_chunk['heart_rate'],        label='Heart Rate (z)')\n",
    "    plt.plot(rr_chunk['time'],    rr_chunk['respiratory_rate'],  label='Respiratory Rate (z)')\n",
    "    \n",
    "    window_start = accel_chunk['time'].iloc[0]\n",
    "    window_end   = accel_chunk['time'].iloc[-1]\n",
    "    events_in_window = sbs4[sbs4['time'].between(window_start, window_end)]\n",
    "    color_map = {-2:'blue', -1:'green', 0:'yellow', 1:'orange', 2:'red'}\n",
    "    for _, row in events_in_window.iterrows():\n",
    "        plt.axvline(x=row['time'], color=color_map[row['TM_SBS']], linestyle='--')\n",
    "\n",
    "    plt.xlim(window_start, window_end)\n",
    "    plt.ylim(-15, 15)\n",
    "    plt.xlabel('Time')\n",
    "    plt.ylabel('Standardized z‑score')\n",
    "    plt.title(f'Standardized Features: points {start_idx}–{min(end_idx,len(hr4_standardized))}')\n",
    "    plt.legend()\n",
    "    plt.grid()\n",
    "    plt.show()\n"
   ]
  },
  {
   "cell_type": "markdown",
   "id": "699916af",
   "metadata": {},
   "source": [
    "Hello World!"
   ]
  },
  {
   "cell_type": "code",
   "execution_count": null,
   "id": "3977a79b",
   "metadata": {},
   "outputs": [],
   "source": [
    "def binary_search(times, target, start, end):\n",
    "    if start > end:\n",
    "        return -1\n",
    "\n",
    "    mid = (start + end) // 2\n",
    "\n",
    "    if times[mid] == target:\n",
    "        return mid\n",
    "    elif times[mid] < target:\n",
    "        return binary_search(times, target, mid + 1, end)\n",
    "    else:\n",
    "        return binary_search(times, target, start, mid - 1)"
   ]
  },
  {
   "cell_type": "code",
   "execution_count": null,
   "id": "e7c22329",
   "metadata": {},
   "outputs": [],
   "source": [
    "start = 0\n",
    "end = len(accel4) - 1\n",
    "\n",
    "indices = np.zeros(len(sbs4), dtype=int)\n",
    "chunks = []\n",
    "\n",
    "for i in range(len(sbs4)):\n",
    "    index = binary_search(accel4['time'].values, sbs4['time'].values[i], start, end)\n",
    "    indices[i] = index\n",
    "\n",
    "    if index != -1:\n",
    "        chunks.append(tuple([index - 100*60*15, index + 100*60*15]))\n",
    "    else:\n",
    "        chunks.append(tuple([0, 0]))"
   ]
  },
  {
   "cell_type": "code",
   "execution_count": null,
   "id": "51afd362",
   "metadata": {},
   "outputs": [],
   "source": [
    "accel4_chunks = pd.DataFrame(columns=['time', 'accel_x', 'accel_y', 'accel_z'])\n",
    "\n",
    "for i in tqdm(range(len(chunks))):\n",
    "    if chunks[i][0] < 0:\n",
    "        continue\n",
    "\n",
    "    if chunks[i][1] >= len(accel4):\n",
    "        continue\n",
    "\n",
    "    time = accel4['time'].values[chunks[i][0]:chunks[i][1]]\n",
    "    accelx = accel4['X'].values[chunks[i][0]:chunks[i][1]]\n",
    "    accely = accel4['Y'].values[chunks[i][0]:chunks[i][1]]\n",
    "    accelz = accel4['Z'].values[chunks[i][0]:chunks[i][1]]\n",
    "\n",
    "    accel4_chunks = pd.concat([accel4_chunks, pd.DataFrame({'time': time, 'accel_x': accelx, 'accel_y': accely, 'accel_z': accelz})], ignore_index=True)\n",
    "    accel4_chunks = accel4_chunks.sort_values(by='time', ascending=True).reset_index(drop=True)"
   ]
  }
 ],
 "metadata": {
  "kernelspec": {
   "display_name": "base",
   "language": "python",
   "name": "python3"
  },
  "language_info": {
   "codemirror_mode": {
    "name": "ipython",
    "version": 3
   },
   "file_extension": ".py",
   "mimetype": "text/x-python",
   "name": "python",
   "nbconvert_exporter": "python",
   "pygments_lexer": "ipython3",
   "version": "3.11.5"
  }
 },
 "nbformat": 4,
 "nbformat_minor": 5
}
