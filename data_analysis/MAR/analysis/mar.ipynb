{
 "cells": [
  {
   "cell_type": "code",
   "execution_count": 1,
   "metadata": {},
   "outputs": [],
   "source": [
    "import os\n",
    "import numpy as np\n",
    "import pandas as pd\n",
    "from tqdm import tqdm\n",
    "import matplotlib.pyplot as plt\n",
    "\n",
    "import mar\n",
    "import preprocessing"
   ]
  },
  {
   "cell_type": "code",
   "execution_count": 2,
   "metadata": {},
   "outputs": [],
   "source": [
    "data_dir = os.path.join(os.path.dirname(os.getcwd()), \"data\")\n",
    "pat_num = 9"
   ]
  },
  {
   "cell_type": "code",
   "execution_count": null,
   "metadata": {},
   "outputs": [],
   "source": [
    "mar = preprocessing.load_mar_data(data_dir, pat_num)\n",
    "sickbay = preprocessing.load_sickbay_data(data_dir, pat_num)\n",
    "accel = preprocessing.load_accel_data(data_dir, pat_num)\n",
    "accel = preprocessing.process_accel_data(accel)\n",
    "ecg = preprocessing.load_ecg_data(data_dir, pat_num)\n",
    "sbs = preprocessing.load_retro_data(data_dir, pat_num, ignore_default=True)"
   ]
  },
  {
   "cell_type": "code",
   "execution_count": null,
   "metadata": {},
   "outputs": [
    {
     "name": "stderr",
     "output_type": "stream",
     "text": [
      "100%|██████████| 95590/95590 [00:57<00:00, 1669.32it/s]"
     ]
    },
    {
     "name": "stdout",
     "output_type": "stream",
     "text": [
      "                     time         x         y         z         a\n",
      "0     2024-01-15 12:20:00 -0.089844 -0.030859 -1.010156  1.014613\n",
      "1     2024-01-15 12:20:02 -0.087891 -0.033984 -1.005469  1.009875\n",
      "2     2024-01-15 12:20:04 -0.087891 -0.035156 -1.005859  1.010304\n",
      "3     2024-01-15 12:20:06 -0.090234 -0.033203 -1.006250  1.010833\n",
      "4     2024-01-15 12:20:08 -0.088672 -0.037109 -1.006641  1.011220\n",
      "...                   ...       ...       ...       ...       ...\n",
      "95585 2024-01-17 17:26:40 -0.623047  0.375000 -0.633594  0.964496\n",
      "95586 2024-01-17 17:26:42 -0.994531 -0.368359 -0.881641  1.379156\n",
      "95587 2024-01-17 17:26:44 -0.502344  0.478125 -0.751953  1.022930\n",
      "95588 2024-01-17 17:26:46 -0.386328  0.322656 -0.893750  1.025741\n",
      "95589 2024-01-17 17:26:48  0.010937 -0.062891 -0.993359  0.995408\n",
      "\n",
      "[95590 rows x 5 columns]\n"
     ]
    },
    {
     "name": "stderr",
     "output_type": "stream",
     "text": [
      "\n"
     ]
    }
   ],
   "source": [
    "accel = preprocessing.load_accel_data(data_dir, pat_num)\n",
    "accel = preprocessing.process_accel_data(accel)\n",
    "\n",
    "print(accel)"
   ]
  }
 ],
 "metadata": {
  "language_info": {
   "name": "python"
  }
 },
 "nbformat": 4,
 "nbformat_minor": 5
}
