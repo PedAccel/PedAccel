{
 "cells": [
  {
   "cell_type": "code",
   "execution_count": 1,
   "metadata": {},
   "outputs": [],
   "source": [
    "import os\n",
    "\n",
    "import mar\n",
    "import preprocessing"
   ]
  },
  {
   "cell_type": "code",
   "execution_count": 2,
   "id": "a77ec041",
   "metadata": {},
   "outputs": [],
   "source": [
    "pat_num = 4"
   ]
  },
  {
   "cell_type": "code",
   "execution_count": 3,
   "metadata": {},
   "outputs": [],
   "source": [
    "data_dir = os.path.join(os.path.dirname(os.getcwd()), \"data\")\n",
    "output_dir = os.path.join(os.path.dirname(os.getcwd()), \"output\")\n",
    "\n",
    "if not os.path.exists(os.path.join(data_dir, f'Patient{pat_num}')):\n",
    "    os.makedirs(os.path.join(data_dir, f'Patient{pat_num}'))\n",
    "\n",
    "if not os.path.exists(os.path.join(output_dir, f'Patient{pat_num}')):\n",
    "    os.makedirs(os.path.join(output_dir, f'Patient{pat_num}'))"
   ]
  },
  {
   "cell_type": "code",
   "execution_count": 4,
   "metadata": {},
   "outputs": [],
   "source": [
    "mar_data = preprocessing.load_mar_data(data_dir, pat_num)\n",
    "sickbay_data = preprocessing.load_sickbay_data(data_dir, pat_num)\n",
    "sbs_data = preprocessing.load_retro_data(data_dir, pat_num, ignore_default=True)\n",
    "accel_data = preprocessing.load_accel_data(data_dir, pat_num)\n",
    "# ecg_data = preprocessing.load_ecg_data(data_dir, pat_num)"
   ]
  },
  {
   "cell_type": "code",
   "execution_count": 5,
   "id": "f4027efa",
   "metadata": {},
   "outputs": [
    {
     "name": "stdout",
     "output_type": "stream",
     "text": [
      "narcotics : (265, 4)\n",
      "paralytics : (0, 4)\n",
      "alpha_agonists : (506, 4)\n",
      "ketamines : (12, 4)\n",
      "propofols : (0, 4)\n",
      "etomidates : (0, 4)\n",
      "benzodiazepines : (0, 4)\n"
     ]
    }
   ],
   "source": [
    "mar_narcotics, mar_paralytics, mar_alpha_agonists, mar_ketamines, mar_propofols, mar_etomidates, mar_benzodiazepines = mar.filter_mar(mar_data)\n",
    "mar_classes = {'narcotics': mar_narcotics, 'paralytics': mar_paralytics, 'alpha_agonists': mar_alpha_agonists, 'ketamines': mar_ketamines, 'propofols': mar_propofols, 'etomidates': mar_etomidates, 'benzodiazepines': mar_benzodiazepines}\n",
    "\n",
    "for mar_class in mar_classes:\n",
    "    print(mar_class + \" : \" + str(mar_classes[mar_class].shape))"
   ]
  },
  {
   "cell_type": "code",
   "execution_count": 7,
   "id": "74e88a30",
   "metadata": {},
   "outputs": [
    {
     "name": "stdout",
     "output_type": "stream",
     "text": [
      "fentanyl : (265, 4)\n",
      "dexmedetomidine : (467, 4)\n",
      "clonidine : (39, 4)\n",
      "ketamine : (12, 4)\n",
      "fentanyl : (21316, 4)\n",
      "dexmedetomidine : (34222, 4)\n",
      "clonidine : (25489, 4)\n",
      "ketamine : (28777, 4)\n"
     ]
    }
   ],
   "source": [
    "drug_doses = {}\n",
    "drug_concentrations = {}\n",
    "\n",
    "for mar_class in mar_classes:\n",
    "    if mar_classes[mar_class].shape[0] < 1:\n",
    "        continue\n",
    "\n",
    "    for drug_name in mar.classes()[mar_class]:\n",
    "        drug_df = mar.filter_drug(mar_classes[mar_class], drug_name)\n",
    "        \n",
    "        if drug_df.shape[0] < 1:\n",
    "            continue\n",
    "\n",
    "        print(drug_name + \" : \" + str(drug_df.shape))\n",
    "\n",
    "        drug_doses[drug_name] = mar.calculate_doses(drug_df)\n",
    "        drug_concentrations[drug_name] = mar.calculate_concentrations_rk4(drug_doses[drug_name], elimination_rate=mar.elimination_rates()[drug_name])\n",
    "\n",
    "for drug_name in drug_doses:\n",
    "    print(drug_name + \" : \" + str(drug_doses[drug_name].shape))"
   ]
  },
  {
   "cell_type": "code",
   "execution_count": null,
   "id": "06410b43",
   "metadata": {},
   "outputs": [],
   "source": [
    "for drug_name in drug_concentrations:\n",
    "    mar.plot_concentration(drug_concentrations, drug_name, show=False, save=os.path.join(output_dir, f'Patient{pat_num}', f'Patient{pat_num}_{drug_name}_concentration.png'))\n",
    "\n",
    "mar.plot_concntration(drug_concentrations, 'all', show=False, save=os.path.join(output_dir, f'Patient{pat_num}', f'Patient{pat_num}_all_concentration.png'))"
   ]
  }
 ],
 "metadata": {
  "kernelspec": {
   "display_name": "base",
   "language": "python",
   "name": "python3"
  },
  "language_info": {
   "codemirror_mode": {
    "name": "ipython",
    "version": 3
   },
   "file_extension": ".py",
   "mimetype": "text/x-python",
   "name": "python",
   "nbconvert_exporter": "python",
   "pygments_lexer": "ipython3",
   "version": "3.11.5"
  }
 },
 "nbformat": 4,
 "nbformat_minor": 5
}
