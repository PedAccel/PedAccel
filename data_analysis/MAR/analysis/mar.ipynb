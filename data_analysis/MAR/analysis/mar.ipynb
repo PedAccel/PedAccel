{
 "cells": [
  {
   "cell_type": "code",
   "execution_count": 13,
   "metadata": {},
   "outputs": [],
   "source": [
    "import os\n",
    "import numpy as np\n",
    "import pandas as pd\n",
    "from tqdm import tqdm\n",
    "import matplotlib.pyplot as plt\n",
    "\n",
    "import mar\n",
    "import preprocessing"
   ]
  },
  {
   "cell_type": "code",
   "execution_count": 2,
   "metadata": {},
   "outputs": [],
   "source": [
    "data_dir = os.path.join(os.path.dirname(os.getcwd()), \"data\")\n",
    "pat_num = 9"
   ]
  },
  {
   "cell_type": "code",
   "execution_count": 9,
   "metadata": {},
   "outputs": [],
   "source": [
    "mar_data = preprocessing.load_mar_data(data_dir, pat_num)\n",
    "sickbay_data = preprocessing.load_sickbay_data(data_dir, pat_num)\n",
    "sbs_data = preprocessing.load_retro_data(data_dir, pat_num, ignore_default=True)"
   ]
  },
  {
   "cell_type": "code",
   "execution_count": 10,
   "metadata": {},
   "outputs": [
    {
     "name": "stdout",
     "output_type": "stream",
     "text": [
      "hello world\n"
     ]
    }
   ],
   "source": [
    "accel_data = preprocessing.process_accel_data(data_dir, pat_num, save=os.path.join(data_dir, f'Patient{pat_num}', f'accel.csv'))"
   ]
  },
  {
   "cell_type": "code",
   "execution_count": 11,
   "id": "844baf1a",
   "metadata": {},
   "outputs": [],
   "source": [
    "ecg_data = preprocessing.load_ecg_data(data_dir, pat_num)"
   ]
  },
  {
   "cell_type": "code",
   "execution_count": null,
   "id": "f4027efa",
   "metadata": {},
   "outputs": [
    {
     "name": "stdout",
     "output_type": "stream",
     "text": [
      "(414, 4)\n",
      "(0, 4)\n",
      "(44, 4)\n",
      "(9, 4)\n",
      "(41, 4)\n",
      "(0, 4)\n",
      "(290, 4)\n"
     ]
    }
   ],
   "source": [
    "mar_narcotics, mar_paralytics, mar_alpha_agonists, mar_ketamines, mar_propofols, mar_etomidates, mar_benzodiazepines = mar.filter_mar(mar_data)\n",
    "drug_classes = [mar_narcotics, mar_paralytics, mar_alpha_agonists, mar_ketamines, mar_propofols, mar_etomidates, mar_benzodiazepines]\n",
    "\n",
    "for drug_class in drug_classes:\n",
    "    print(drug_class.shape)"
   ]
  },
  {
   "cell_type": "code",
   "execution_count": null,
   "id": "74e88a30",
   "metadata": {},
   "outputs": [],
   "source": [
    "drug_doses = []\n",
    "drug_concentrations = []\n",
    "\n",
    "for drug_class in drug_classes:\n",
    "    if drug_class.shape[0] > 0:\n",
    "        "
   ]
  }
 ],
 "metadata": {
  "kernelspec": {
   "display_name": "base",
   "language": "python",
   "name": "python3"
  },
  "language_info": {
   "codemirror_mode": {
    "name": "ipython",
    "version": 3
   },
   "file_extension": ".py",
   "mimetype": "text/x-python",
   "name": "python",
   "nbconvert_exporter": "python",
   "pygments_lexer": "ipython3",
   "version": "3.11.5"
  }
 },
 "nbformat": 4,
 "nbformat_minor": 5
}
